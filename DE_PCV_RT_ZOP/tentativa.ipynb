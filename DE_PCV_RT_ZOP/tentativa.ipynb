{
 "cells": [
  {
   "cell_type": "code",
   "execution_count": 1,
   "metadata": {},
   "outputs": [
    {
     "name": "stdout",
     "output_type": "stream",
     "text": [
      "Função Objetivo:\n",
      "\n",
      "13280.94341331246\n",
      " \n",
      "Penalização de Violação de Tensão [PU]:\n",
      "\n",
      "0.1023062651354617\n",
      " \n",
      "Penalização de Violação de Geração de Reativo [PU]:\n",
      "\n",
      "69.82987898183562\n",
      " \n",
      "Penalização de Violação de Geração de Ativo (Slack) [PU]:\n",
      "\n",
      "36.37529779688508\n",
      " \n"
     ]
    },
    {
     "data": {
      "text/plain": [
       "array([[9.52283478e-01, 9.98538193e-01, 9.68916255e-01, 9.60988100e-01,\n",
       "        9.97559081e-01, 1.00000000e+00, 1.03000000e+00, 9.30000000e-01,\n",
       "        1.00000000e-02, 1.20465755e+00, 8.68627083e-01, 3.99369296e-01,\n",
       "        5.10582635e-01, 1.32809434e+04, 1.02306265e-01, 6.98298790e+01,\n",
       "        0.00000000e+00, 4.86468106e-30, 3.63752978e+01, 0.00000000e+00]])"
      ]
     },
     "execution_count": 1,
     "metadata": {},
     "output_type": "execute_result"
    }
   ],
   "source": [
    "from resources.msc_rafael_pavan import *\n",
    "\n",
    "from optimizers.SQP_BB_SOLO import *\n",
    "\n",
    "import warnings\n",
    "\n",
    "from pandapower.networks import case14, case_ieee30\n",
    "\n",
    "sep = case14()\n",
    "\n",
    "inicializa_sep(sep)\n",
    "\n",
    "validacao_fpo(sep,cria_enxame_fpo(sep,1)[0])"
   ]
  },
  {
   "cell_type": "code",
   "execution_count": null,
   "metadata": {},
   "outputs": [],
   "source": []
  },
  {
   "cell_type": "code",
   "execution_count": 7,
   "metadata": {},
   "outputs": [],
   "source": [
    "gbest_clpso_14 = pd.read_csv('solutions_and_curves/CLPSO_IEEE30/gbest_clpso_30.csv').values[:,1:]\n",
    "\n",
    "costs_clpso_14 = pd.read_csv('solutions_and_curves/CLPSO_IEEE30/costs_clpso_30.csv').values[:,1:]\n"
   ]
  },
  {
   "cell_type": "code",
   "execution_count": 9,
   "metadata": {},
   "outputs": [
    {
     "data": {
      "text/plain": [
       "9560.447646658627"
      ]
     },
     "execution_count": 9,
     "metadata": {},
     "output_type": "execute_result"
    }
   ],
   "source": [
    "costs_clpso_14.mean()"
   ]
  },
  {
   "cell_type": "code",
   "execution_count": null,
   "metadata": {},
   "outputs": [],
   "source": []
  },
  {
   "cell_type": "code",
   "execution_count": 54,
   "metadata": {},
   "outputs": [],
   "source": [
    "obj_sqp_bb = pd.read_csv('solutions_and_curves/SQP_BB_IEEE14/obj_sqp_bb.csv').values[:,1:]\n",
    "angles = pd.read_csv('solutions_and_curves/SQP_BB_IEEE30/angles.csv').values[:,1:]\n",
    "voltages = pd.read_csv('solutions_and_curves/SQP_BB_IEEE30/voltages.csv').values[:,1:]\n",
    "tempos_sqp_bb = pd.read_csv('solutions_and_curves/SQP_BB_IEEE30/tempos_sqp_bb.csv').values[:,1:]\n",
    "initial_points = pd.read_csv('solutions_and_curves/SQP_BB_IEEE30/initial_points.csv').values[:,1:]\n",
    "shunts = pd.read_csv('solutions_and_curves/SQP_BB_IEEE30/shunts.csv').values[:,1:]\n",
    "trafos = pd.read_csv('solutions_and_curves/SQP_BB_IEEE30/trafos.csv').values[:,1:]\n",
    "tempos_sqp_bb = pd.read_csv('solutions_and_curves/SQP_BB_IEEE30/tempos_sqp_bb.csv').values[:,1:]\n",
    "qpowers = pd.read_csv('solutions_and_curves/SQP_BB_IEEE30/qpowers.csv').values[:,1:]\n",
    "ppowers = pd.read_csv('solutions_and_curves/SQP_BB_IEEE30/ppowers.csv').values[:,1:]\n"
   ]
  },
  {
   "cell_type": "code",
   "execution_count": 55,
   "metadata": {},
   "outputs": [
    {
     "data": {
      "text/plain": [
       "8621.44287432"
      ]
     },
     "execution_count": 55,
     "metadata": {},
     "output_type": "execute_result"
    }
   ],
   "source": [
    "obj_sqp_bb.ravel().mean()"
   ]
  },
  {
   "cell_type": "code",
   "execution_count": 56,
   "metadata": {},
   "outputs": [
    {
     "data": {
      "text/plain": [
       "2.374285714285714"
      ]
     },
     "execution_count": 56,
     "metadata": {},
     "output_type": "execute_result"
    }
   ],
   "source": [
    "3.324*(5/7)"
   ]
  },
  {
   "cell_type": "code",
   "execution_count": 6,
   "metadata": {},
   "outputs": [
    {
     "name": "stderr",
     "output_type": "stream",
     "text": [
      "c:\\Users\\Rafael Pavan\\Desktop\\Mestrado\\DE_PCV_RT_ZOP\\optimizers\\SQP_BB_SOLO.py:210: FutureWarning: Index.ravel returning ndarray is deprecated; in a future version this will return a view on self.\n",
      "  for i in range(len(sep_modelo.line.index.ravel())):\n",
      "c:\\Users\\Rafael Pavan\\Desktop\\Mestrado\\DE_PCV_RT_ZOP\\optimizers\\SQP_BB_SOLO.py:450: FutureWarning: Index.ravel returning ndarray is deprecated; in a future version this will return a view on self.\n",
      "  for i in range(len(sep_modelo.line.index.ravel())):\n"
     ]
    },
    {
     "name": "stdout",
     "output_type": "stream",
     "text": [
      "0 8530.8885031 45.02401328086853\n",
      "1 8578.6546096 28.774185180664062\n",
      "2 8713.5388346 38.019692182540894\n",
      "3 8502.5461847 45.609538078308105\n",
      "4 8556.8021109 42.02762174606323\n",
      "5 8496.7618815 7.911947250366211\n",
      "6 8538.239974 31.886991262435913\n",
      "7 8530.9267374 105.13589596748352\n",
      "8 8583.4336226 68.52419853210449\n",
      "9 8949.5031684 20.024075508117676\n",
      "10 8530.9267374 84.3009705543518\n",
      "11 8572.9790929 66.89457774162292\n",
      "12 8502.5461847 32.141663551330566\n",
      "13 8538.239974 23.024099588394165\n",
      "14 8436.9119703 22.150570392608643\n",
      "15 8496.7618815 37.36052393913269\n",
      "16 8556.7110671 41.30076861381531\n",
      "17 8583.4282893 16.493470191955566\n",
      "18 8496.7834998 23.354768991470337\n",
      "19 8502.5461847 19.439455270767212\n",
      "20 8502.5461847 26.309715032577515\n",
      "21 9884.2331544 31.241239309310913\n",
      "22 8687.3050279 99.7371244430542\n",
      "23 8530.9267374 33.3434202671051\n",
      "24 8530.8885031 88.5210473537445\n",
      "25 8556.7462319 85.91506147384644\n",
      "26 8949.5031684 11.804107189178467\n",
      "27 8713.5764698 30.36076784133911\n",
      "28 8538.239974 132.61633563041687\n",
      "29 8502.4898762 55.82090210914612\n",
      "30 8502.5461847 25.643600940704346\n",
      "31 8538.239974 184.76944994926453\n",
      "32 8727.9977791 15.872711420059204\n",
      "33 8530.8885031 141.1866238117218\n",
      "34 8547.5493139 19.366079330444336\n",
      "35 8667.6370434 40.73854041099548\n",
      "36 8805.7087907 14.686227798461914\n",
      "37 8502.4898762 80.8611044883728\n",
      "38 8502.5461847 24.73510503768921\n",
      "39 8502.5461846 135.1148648262024\n",
      "40 8852.0661829 24.983208179473877\n",
      "41 8556.7110671 49.43167567253113\n",
      "42 8667.4290112 42.15282392501831\n",
      "43 8667.6370434 41.822094440460205\n",
      "44 8502.5461847 40.75233554840088\n",
      "45 8436.9921192 38.925541162490845\n",
      "46 8553.813704 133.17771792411804\n",
      "47 8553.7601934 65.89821243286133\n",
      "48 8575.8489747 14.83232569694519\n",
      "49 8502.5461848 28.613803386688232\n",
      "50 8538.239974 257.94209384918213\n",
      "51 9875.8645514 26.457825660705566\n",
      "52 8530.9570386 104.65016746520996\n",
      "53 8522.3910304 14.207410097122192\n",
      "54 8502.5461842 11.659482479095459\n",
      "55 8667.8269533 61.2174928188324\n",
      "56 8502.4898762 83.87605023384094\n",
      "57 8544.0931992 68.66917824745178\n",
      "58 8667.6370434 53.38869094848633\n",
      "59 8667.6370434 20.080761432647705\n",
      "60 8436.9119703 29.88571810722351\n",
      "61 8570.0033019 185.54757523536682\n",
      "62 8502.4898762 18.451210260391235\n",
      "63 8502.4898762 22.484631538391113\n",
      "64 8572.9656632 140.2400541305542\n",
      "65 8556.7110671 57.8546941280365\n",
      "66 8556.7110671 26.934249877929688\n",
      "67 8530.8885031 95.69749045372009\n",
      "68 8502.4898762 77.04293131828308\n",
      "69 8556.7110671 125.88983345031738\n",
      "70 8530.8885031 15.040372848510742\n",
      "71 8530.8885031 33.55313444137573\n",
      "72 8538.4130804 47.16507053375244\n",
      "73 8812.7899844 15.618950605392456\n",
      "74 8502.5461847 37.14296579360962\n",
      "75 8502.5233775 105.07275772094727\n",
      "76 8958.5864001 25.2846040725708\n",
      "77 8538.239974 68.84723401069641\n",
      "78 8572.9656632 66.6197156906128\n",
      "79 8538.2420356 22.991243600845337\n",
      "80 8436.9119703 24.850378036499023\n",
      "81 8686.7280374 37.27883267402649\n",
      "82 8502.5461847 27.569748401641846\n",
      "83 8556.7110671 32.32630896568298\n",
      "84 8766.1677136 16.652250051498413\n",
      "85 8556.7110671 90.65332055091858\n"
     ]
    },
    {
     "ename": "Exception",
     "evalue": " @error: Solution Not Found\n",
     "output_type": "error",
     "traceback": [
      "\u001b[1;31m---------------------------------------------------------------------------\u001b[0m",
      "\u001b[1;31mException\u001b[0m                                 Traceback (most recent call last)",
      "\u001b[1;32mC:\\Users\\RAFAEL~1\\AppData\\Local\\Temp/ipykernel_2772/233285486.py\u001b[0m in \u001b[0;36m<module>\u001b[1;34m\u001b[0m\n\u001b[0;32m      9\u001b[0m     \u001b[0ms\u001b[0m \u001b[1;33m=\u001b[0m \u001b[0mtime\u001b[0m\u001b[1;33m.\u001b[0m\u001b[0mtime\u001b[0m\u001b[1;33m(\u001b[0m\u001b[1;33m)\u001b[0m\u001b[1;33m\u001b[0m\u001b[1;33m\u001b[0m\u001b[0m\n\u001b[0;32m     10\u001b[0m \u001b[1;33m\u001b[0m\u001b[0m\n\u001b[1;32m---> 11\u001b[1;33m     \u001b[0mresults\u001b[0m \u001b[1;33m=\u001b[0m \u001b[0mSequential_Quadratic_Programming_Branch_and_Bound\u001b[0m\u001b[1;33m(\u001b[0m\u001b[0msep\u001b[0m\u001b[1;33m,\u001b[0m\u001b[1;36m1e6\u001b[0m\u001b[1;33m,\u001b[0m\u001b[1;36m1e6\u001b[0m\u001b[1;33m,\u001b[0m \u001b[1;32mFalse\u001b[0m\u001b[1;33m)\u001b[0m\u001b[1;33m\u001b[0m\u001b[1;33m\u001b[0m\u001b[0m\n\u001b[0m\u001b[0;32m     12\u001b[0m \u001b[1;33m\u001b[0m\u001b[0m\n\u001b[0;32m     13\u001b[0m     \u001b[0me\u001b[0m \u001b[1;33m=\u001b[0m \u001b[0mtime\u001b[0m\u001b[1;33m.\u001b[0m\u001b[0mtime\u001b[0m\u001b[1;33m(\u001b[0m\u001b[1;33m)\u001b[0m\u001b[1;33m\u001b[0m\u001b[1;33m\u001b[0m\u001b[0m\n",
      "\u001b[1;32mc:\\Users\\Rafael Pavan\\Desktop\\Mestrado\\DE_PCV_RT_ZOP\\optimizers\\SQP_BB_SOLO.py\u001b[0m in \u001b[0;36mSequential_Quadratic_Programming_Branch_and_Bound\u001b[1;34m(sep_teste, n_vizinhos_tap, n_vizinhos_shunt, verbose, travado)\u001b[0m\n\u001b[0;32m   1713\u001b[0m                             ]\n\u001b[0;32m   1714\u001b[0m \u001b[1;33m\u001b[0m\u001b[0m\n\u001b[1;32m-> 1715\u001b[1;33m         \u001b[0msep\u001b[0m\u001b[1;33m.\u001b[0m\u001b[0msolve\u001b[0m\u001b[1;33m(\u001b[0m\u001b[0mdisp\u001b[0m\u001b[1;33m=\u001b[0m\u001b[0mverbose\u001b[0m\u001b[1;33m)\u001b[0m\u001b[1;33m\u001b[0m\u001b[1;33m\u001b[0m\u001b[0m\n\u001b[0m\u001b[0;32m   1716\u001b[0m \u001b[1;33m\u001b[0m\u001b[0m\n\u001b[0;32m   1717\u001b[0m         \u001b[0mtensao\u001b[0m \u001b[1;33m=\u001b[0m \u001b[0mnp\u001b[0m\u001b[1;33m.\u001b[0m\u001b[0mzeros\u001b[0m\u001b[1;33m(\u001b[0m\u001b[0mlen\u001b[0m\u001b[1;33m(\u001b[0m\u001b[0msep_modelo\u001b[0m\u001b[1;33m.\u001b[0m\u001b[0mgen\u001b[0m\u001b[1;33m[\u001b[0m\u001b[1;34m'bus'\u001b[0m\u001b[1;33m]\u001b[0m\u001b[1;33m.\u001b[0m\u001b[0mto_numpy\u001b[0m\u001b[1;33m(\u001b[0m\u001b[1;33m)\u001b[0m\u001b[1;33m)\u001b[0m\u001b[1;33m+\u001b[0m\u001b[1;36m1\u001b[0m\u001b[1;33m)\u001b[0m\u001b[1;33m\u001b[0m\u001b[1;33m\u001b[0m\u001b[0m\n",
      "\u001b[1;32m~\\AppData\\Local\\Programs\\Python\\Python39\\lib\\site-packages\\gekko\\gekko.py\u001b[0m in \u001b[0;36msolve\u001b[1;34m(self, disp, debug, GUI, **kwargs)\u001b[0m\n\u001b[0;32m   2183\u001b[0m             \u001b[1;31m#print APM error message and die\u001b[0m\u001b[1;33m\u001b[0m\u001b[1;33m\u001b[0m\u001b[0m\n\u001b[0;32m   2184\u001b[0m             \u001b[1;32mif\u001b[0m \u001b[1;33m(\u001b[0m\u001b[0mdebug\u001b[0m \u001b[1;33m>=\u001b[0m \u001b[1;36m1\u001b[0m\u001b[1;33m)\u001b[0m \u001b[1;32mand\u001b[0m \u001b[1;33m(\u001b[0m\u001b[1;34m'@error'\u001b[0m \u001b[1;32min\u001b[0m \u001b[0mresponse\u001b[0m\u001b[1;33m)\u001b[0m\u001b[1;33m:\u001b[0m\u001b[1;33m\u001b[0m\u001b[1;33m\u001b[0m\u001b[0m\n\u001b[1;32m-> 2185\u001b[1;33m                 \u001b[1;32mraise\u001b[0m \u001b[0mException\u001b[0m\u001b[1;33m(\u001b[0m\u001b[0mresponse\u001b[0m\u001b[1;33m)\u001b[0m\u001b[1;33m\u001b[0m\u001b[1;33m\u001b[0m\u001b[0m\n\u001b[0m\u001b[0;32m   2186\u001b[0m \u001b[1;33m\u001b[0m\u001b[0m\n\u001b[0;32m   2187\u001b[0m             \u001b[1;31m#load results\u001b[0m\u001b[1;33m\u001b[0m\u001b[1;33m\u001b[0m\u001b[0m\n",
      "\u001b[1;31mException\u001b[0m:  @error: Solution Not Found\n"
     ]
    }
   ],
   "source": [
    "for i in range(100):\n",
    "\n",
    "    initial = cria_enxame_fpo(sep,1)[0] \n",
    "\n",
    "    a = validacao_fpo(sep,initial, False)\n",
    "    \n",
    "    initial_points.append(initial)\n",
    "\n",
    "    s = time.time()\n",
    "    \n",
    "    results = Sequential_Quadratic_Programming_Branch_and_Bound(sep,1e6,1e6, False)\n",
    "\n",
    "    e = time.time()\n",
    "    \n",
    "    initial_points.append(initial)\n",
    "\n",
    "    iterations_sqp_bb.append(results['iterations'])\n",
    "    \n",
    "    tempos_sqp_bb.append(e-s)\n",
    "    \n",
    "    obj_sqp_bb.append(results['objective_function'])\n",
    "\n",
    "    ppowers.append(results['active_power'])\n",
    "    \n",
    "    qpowers.append(results['reactive_power'])\n",
    "\n",
    "    voltages.append(results['voltages'])\n",
    "\n",
    "    angles.append(results['angles'])\n",
    "\n",
    "    shunts.append(results['shunts'])\n",
    "\n",
    "    trafos.append(results['trafos'])\n",
    "    \n",
    "    print(i, obj_sqp_bb[-1], tempos_sqp_bb[-1])\n"
   ]
  },
  {
   "cell_type": "code",
   "execution_count": 53,
   "metadata": {},
   "outputs": [],
   "source": [
    "pd.DataFrame(tempos_sqp_bb[a[:50],:]).to_csv('tempos_sqp_bb.csv')\n",
    "pd.DataFrame(obj_sqp_bb[a[:50],:]).to_csv('obj_sqp_bb.csv')\n",
    "pd.DataFrame(ppowers[a[:50],:]).to_csv('ppowers.csv')\n",
    "pd.DataFrame(qpowers[a[:50],:]).to_csv('qpowers.csv')\n",
    "pd.DataFrame(angles[a[:50],:]).to_csv('angles.csv')\n",
    "pd.DataFrame(voltages[a[:50],:]).to_csv('voltages.csv')\n",
    "pd.DataFrame(shunts[a[:50],:]).to_csv('shunts.csv')\n",
    "pd.DataFrame(trafos[a[:50],:]).to_csv('trafos.csv')\n",
    "pd.DataFrame(initial_points[a[:50],:]).to_csv('initial_points.csv')"
   ]
  },
  {
   "cell_type": "code",
   "execution_count": 19,
   "metadata": {},
   "outputs": [
    {
     "data": {
      "text/plain": [
       "8680.928936804"
      ]
     },
     "execution_count": 19,
     "metadata": {},
     "output_type": "execute_result"
    }
   ],
   "source": []
  }
 ],
 "metadata": {
  "interpreter": {
   "hash": "dd29c56ba2adf52c07826bc05c245baffb15e472d30979d3bfec02223da0ee11"
  },
  "kernelspec": {
   "display_name": "Python 3.9.7 64-bit",
   "language": "python",
   "name": "python3"
  },
  "language_info": {
   "codemirror_mode": {
    "name": "ipython",
    "version": 3
   },
   "file_extension": ".py",
   "mimetype": "text/x-python",
   "name": "python",
   "nbconvert_exporter": "python",
   "pygments_lexer": "ipython3",
   "version": "3.9.7"
  },
  "orig_nbformat": 4
 },
 "nbformat": 4,
 "nbformat_minor": 2
}
