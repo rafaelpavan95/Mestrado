{
 "cells": [
  {
   "cell_type": "code",
   "execution_count": null,
   "metadata": {},
   "outputs": [],
   "source": [
    "from resources.msc_rafael_pavan import *\n",
    "\n",
    "sep = case118()\n",
    "\n",
    "inicializa_sep(sep)"
   ]
  }
 ],
 "metadata": {
  "language_info": {
   "name": "python"
  },
  "orig_nbformat": 4
 },
 "nbformat": 4,
 "nbformat_minor": 2
}
