{
 "cells": [
  {
   "cell_type": "code",
   "execution_count": 20,
   "metadata": {},
   "outputs": [
    {
     "name": "stdout",
     "output_type": "stream",
     "text": [
      "0\n"
     ]
    }
   ],
   "source": [
    "from optimizers.SQP import Sequential_Quadratic_Programming\n",
    "from optimizers.CLPSO import Comprehensive_Learning_PSO\n",
    "from economic_dispatch.systems import system_40, system_19, system_13\n",
    "from optimizers.PSO import Particle_Swarm_Optimization\n",
    "\n",
    "CLPSO = Comprehensive_Learning_PSO(0,1,0,0.9,0,0.9,0.4,1500,150,1,50,0.1,0.25,0,False)\n",
    "\n",
    "import time\n",
    "import numpy as np\n",
    "\n",
    "matriz = np.zeros((20,1500))\n",
    "\n",
    "sol = np.zeros((20,40))\n",
    "\n",
    "tempos = []\n",
    "\n",
    "for i in range(1):\n",
    "   \n",
    "    print(i)\n",
    "    start = time.time()\n",
    "\n",
    "    swarm = CLPSO.optimize(system_40(),False)\n",
    "\n",
    "    end = time.time()\n",
    "    \n",
    "    tempos.append(end-start)\n"
   ]
  },
  {
   "cell_type": "code",
   "execution_count": 1,
   "metadata": {},
   "outputs": [
    {
     "ename": "NameError",
     "evalue": "name 'swarm' is not defined",
     "output_type": "error",
     "traceback": [
      "\u001b[1;31m---------------------------------------------------------------------------\u001b[0m",
      "\u001b[1;31mNameError\u001b[0m                                 Traceback (most recent call last)",
      "\u001b[1;32mC:\\Users\\RAFAEL~1\\AppData\\Local\\Temp/ipykernel_13292/3550436616.py\u001b[0m in \u001b[0;36m<module>\u001b[1;34m\u001b[0m\n\u001b[0;32m      2\u001b[0m \u001b[1;32mfor\u001b[0m \u001b[0mi\u001b[0m \u001b[1;32min\u001b[0m \u001b[0mrange\u001b[0m\u001b[1;33m(\u001b[0m\u001b[1;36m1\u001b[0m\u001b[1;33m,\u001b[0m\u001b[1;36m500\u001b[0m\u001b[1;33m)\u001b[0m\u001b[1;33m:\u001b[0m\u001b[1;33m\u001b[0m\u001b[1;33m\u001b[0m\u001b[0m\n\u001b[0;32m      3\u001b[0m \u001b[1;33m\u001b[0m\u001b[0m\n\u001b[1;32m----> 4\u001b[1;33m     \u001b[0mpg\u001b[0m\u001b[1;33m.\u001b[0m\u001b[0mappend\u001b[0m\u001b[1;33m(\u001b[0m\u001b[0mswarm\u001b[0m\u001b[1;33m[\u001b[0m\u001b[0mi\u001b[0m\u001b[1;33m]\u001b[0m\u001b[1;33m.\u001b[0m\u001b[0mstd\u001b[0m\u001b[1;33m(\u001b[0m\u001b[0maxis\u001b[0m\u001b[1;33m=\u001b[0m\u001b[1;36m0\u001b[0m\u001b[1;33m)\u001b[0m\u001b[1;33m[\u001b[0m\u001b[1;36m0\u001b[0m\u001b[1;33m]\u001b[0m\u001b[1;33m)\u001b[0m\u001b[1;33m\u001b[0m\u001b[1;33m\u001b[0m\u001b[0m\n\u001b[0m\u001b[0;32m      5\u001b[0m \u001b[1;33m\u001b[0m\u001b[0m\n",
      "\u001b[1;31mNameError\u001b[0m: name 'swarm' is not defined"
     ]
    }
   ],
   "source": [
    "pg=[]\n",
    "pg2=[]\n",
    "for i in range(1,500):\n",
    "\n",
    "    pg.append(swarm[i].std(axis=0)[0])\n",
    "    pg.append(swarm2[i].std(axis=0)[0])\n",
    "\n",
    "import matplotlib.pyplot as plt\n",
    "\n",
    "plt.plot(pg)\n",
    "\n",
    "plt.plot(pg2)"
   ]
  },
  {
   "cell_type": "code",
   "execution_count": 11,
   "metadata": {},
   "outputs": [
    {
     "data": {
      "text/plain": [
       "[<matplotlib.lines.Line2D at 0x1504df4cb80>]"
      ]
     },
     "execution_count": 11,
     "metadata": {},
     "output_type": "execute_result"
    },
    {
     "data": {
      "image/png": "[encoded data removed]",
      "text/plain": [
       "<Figure size 432x288 with 1 Axes>"
      ]
     },
     "metadata": {
      "needs_background": "light"
     },
     "output_type": "display_data"
    }
   ],
   "source": [
    "import matplotlib.pyplot as plt\n",
    "plt.plot(pg)"
   ]
  },
  {
   "cell_type": "code",
   "execution_count": 77,
   "metadata": {},
   "outputs": [],
   "source": [
    "pso = Particle_Swarm_Optimization(2,2,0.9,0.4,'linear',1500,150,1,50,0.1,0.25,0,False,False,True)\n",
    "\n",
    "swarm2 = pso.optimize(system_40(),False)"
   ]
  },
  {
   "cell_type": "markdown",
   "metadata": {},
   "source": []
  },
  {
   "cell_type": "code",
   "execution_count": 11,
   "metadata": {},
   "outputs": [
    {
     "ename": "NameError",
     "evalue": "name 'matriz2' is not defined",
     "output_type": "error",
     "traceback": [
      "\u001b[1;31m---------------------------------------------------------------------------\u001b[0m",
      "\u001b[1;31mNameError\u001b[0m                                 Traceback (most recent call last)",
      "\u001b[1;32mC:\\Users\\RAFAEL~1\\AppData\\Local\\Temp/ipykernel_13292/1605362045.py\u001b[0m in \u001b[0;36m<module>\u001b[1;34m\u001b[0m\n\u001b[0;32m      5\u001b[0m \u001b[0ma\u001b[0m \u001b[1;33m=\u001b[0m \u001b[0mpd\u001b[0m\u001b[1;33m.\u001b[0m\u001b[0mread_csv\u001b[0m\u001b[1;33m(\u001b[0m\u001b[1;34m'solutions_and_curves/convergence_curves_clpso_13_solo.csv'\u001b[0m\u001b[1;33m)\u001b[0m\u001b[1;33m.\u001b[0m\u001b[0mvalues\u001b[0m\u001b[1;33m[\u001b[0m\u001b[1;33m:\u001b[0m\u001b[1;33m,\u001b[0m\u001b[1;36m1\u001b[0m\u001b[1;33m:\u001b[0m\u001b[1;33m]\u001b[0m\u001b[1;33m\u001b[0m\u001b[1;33m\u001b[0m\u001b[0m\n\u001b[0;32m      6\u001b[0m \u001b[1;33m\u001b[0m\u001b[0m\n\u001b[1;32m----> 7\u001b[1;33m \u001b[0mplt\u001b[0m\u001b[1;33m.\u001b[0m\u001b[0mplot\u001b[0m\u001b[1;33m(\u001b[0m\u001b[0mmatriz2\u001b[0m\u001b[1;33m.\u001b[0m\u001b[0mmean\u001b[0m\u001b[1;33m(\u001b[0m\u001b[0maxis\u001b[0m\u001b[1;33m=\u001b[0m\u001b[1;36m0\u001b[0m\u001b[1;33m)\u001b[0m\u001b[1;33m)\u001b[0m\u001b[1;33m\u001b[0m\u001b[1;33m\u001b[0m\u001b[0m\n\u001b[0m\u001b[0;32m      8\u001b[0m \u001b[1;33m\u001b[0m\u001b[0m\n\u001b[0;32m      9\u001b[0m \u001b[0mplt\u001b[0m\u001b[1;33m.\u001b[0m\u001b[0mplot\u001b[0m\u001b[1;33m(\u001b[0m\u001b[0ma\u001b[0m\u001b[1;33m.\u001b[0m\u001b[0mmean\u001b[0m\u001b[1;33m(\u001b[0m\u001b[0maxis\u001b[0m\u001b[1;33m=\u001b[0m\u001b[1;36m0\u001b[0m\u001b[1;33m)\u001b[0m\u001b[1;33m)\u001b[0m\u001b[1;33m\u001b[0m\u001b[1;33m\u001b[0m\u001b[0m\n",
      "\u001b[1;31mNameError\u001b[0m: name 'matriz2' is not defined"
     ]
    }
   ],
   "source": [
    "import matplotlib.pyplot as plt\n",
    "\n",
    "import pandas as pd\n",
    "\n",
    "a = pd.read_csv('solutions_and_curves/convergence_curves_clpso_13_solo.csv').values[:,1:]\n",
    "\n",
    "plt.plot(matriz2.mean(axis=0))\n",
    "\n",
    "plt.plot(a.mean(axis=0))\n",
    "\n",
    "\n"
   ]
  },
  {
   "cell_type": "code",
   "execution_count": 30,
   "metadata": {},
   "outputs": [
    {
     "data": {
      "text/plain": [
       "100.08949253559112"
      ]
     },
     "execution_count": 30,
     "metadata": {},
     "output_type": "execute_result"
    }
   ],
   "source": [
    "np.mean(tempos)"
   ]
  },
  {
   "cell_type": "code",
   "execution_count": 80,
   "metadata": {},
   "outputs": [
    {
     "data": {
      "text/plain": [
       "{'whiskers': [<matplotlib.lines.Line2D at 0x2733d30db20>,\n",
       "  <matplotlib.lines.Line2D at 0x2733d30d7c0>,\n",
       "  <matplotlib.lines.Line2D at 0x2733d2b2b80>,\n",
       "  <matplotlib.lines.Line2D at 0x2733d2b2520>,\n",
       "  <matplotlib.lines.Line2D at 0x2733c2381c0>,\n",
       "  <matplotlib.lines.Line2D at 0x2733d2511c0>,\n",
       "  <matplotlib.lines.Line2D at 0x2733d258970>,\n",
       "  <matplotlib.lines.Line2D at 0x2733d258d30>,\n",
       "  <matplotlib.lines.Line2D at 0x2733d3f87f0>,\n",
       "  <matplotlib.lines.Line2D at 0x2733d3f8190>,\n",
       "  <matplotlib.lines.Line2D at 0x2733d3077f0>,\n",
       "  <matplotlib.lines.Line2D at 0x2733d307310>,\n",
       "  <matplotlib.lines.Line2D at 0x2733dd44be0>,\n",
       "  <matplotlib.lines.Line2D at 0x2733dd44f70>,\n",
       "  <matplotlib.lines.Line2D at 0x2733d63d550>,\n",
       "  <matplotlib.lines.Line2D at 0x2733d63d8e0>,\n",
       "  <matplotlib.lines.Line2D at 0x2733dbede80>,\n",
       "  <matplotlib.lines.Line2D at 0x2733dbd4250>,\n",
       "  <matplotlib.lines.Line2D at 0x2733dbd87f0>,\n",
       "  <matplotlib.lines.Line2D at 0x2733dbd8b80>,\n",
       "  <matplotlib.lines.Line2D at 0x2733d7b8160>,\n",
       "  <matplotlib.lines.Line2D at 0x2733d7b84f0>,\n",
       "  <matplotlib.lines.Line2D at 0x2733d7b3a90>,\n",
       "  <matplotlib.lines.Line2D at 0x2733d7b3e20>,\n",
       "  <matplotlib.lines.Line2D at 0x2733d7ba400>,\n",
       "  <matplotlib.lines.Line2D at 0x2733d7ba790>],\n",
       " 'caps': [<matplotlib.lines.Line2D at 0x2733c17ed00>,\n",
       "  <matplotlib.lines.Line2D at 0x2733c17e760>,\n",
       "  <matplotlib.lines.Line2D at 0x2733d2b21c0>,\n",
       "  <matplotlib.lines.Line2D at 0x2733c238040>,\n",
       "  <matplotlib.lines.Line2D at 0x2733d2518b0>,\n",
       "  <matplotlib.lines.Line2D at 0x2733d251730>,\n",
       "  <matplotlib.lines.Line2D at 0x2733c0daee0>,\n",
       "  <matplotlib.lines.Line2D at 0x2733d6325b0>,\n",
       "  <matplotlib.lines.Line2D at 0x2733d3f8e50>,\n",
       "  <matplotlib.lines.Line2D at 0x2733d3f84f0>,\n",
       "  <matplotlib.lines.Line2D at 0x2733d541a00>,\n",
       "  <matplotlib.lines.Line2D at 0x2733d541d90>,\n",
       "  <matplotlib.lines.Line2D at 0x2733d61d340>,\n",
       "  <matplotlib.lines.Line2D at 0x2733d61d6d0>,\n",
       "  <matplotlib.lines.Line2D at 0x2733d63dc70>,\n",
       "  <matplotlib.lines.Line2D at 0x2733dbed040>,\n",
       "  <matplotlib.lines.Line2D at 0x2733dbd45e0>,\n",
       "  <matplotlib.lines.Line2D at 0x2733dbd4970>,\n",
       "  <matplotlib.lines.Line2D at 0x2733dbd8f10>,\n",
       "  <matplotlib.lines.Line2D at 0x2733dbd02e0>,\n",
       "  <matplotlib.lines.Line2D at 0x2733d7b8880>,\n",
       "  <matplotlib.lines.Line2D at 0x2733d7b8c10>,\n",
       "  <matplotlib.lines.Line2D at 0x2733d7a41f0>,\n",
       "  <matplotlib.lines.Line2D at 0x2733d7a4580>,\n",
       "  <matplotlib.lines.Line2D at 0x2733d7bab20>,\n",
       "  <matplotlib.lines.Line2D at 0x2733d7baee0>],\n",
       " 'boxes': [<matplotlib.lines.Line2D at 0x2733d30df40>,\n",
       "  <matplotlib.lines.Line2D at 0x2733d2b2070>,\n",
       "  <matplotlib.lines.Line2D at 0x2733c238250>,\n",
       "  <matplotlib.lines.Line2D at 0x2733d258bb0>,\n",
       "  <matplotlib.lines.Line2D at 0x2733d632940>,\n",
       "  <matplotlib.lines.Line2D at 0x2733d3070d0>,\n",
       "  <matplotlib.lines.Line2D at 0x2733d541340>,\n",
       "  <matplotlib.lines.Line2D at 0x2733d63d1c0>,\n",
       "  <matplotlib.lines.Line2D at 0x2733dbedaf0>,\n",
       "  <matplotlib.lines.Line2D at 0x2733dbd8460>,\n",
       "  <matplotlib.lines.Line2D at 0x2733dbd0d90>,\n",
       "  <matplotlib.lines.Line2D at 0x2733d7b3700>,\n",
       "  <matplotlib.lines.Line2D at 0x2733d7ba070>],\n",
       " 'medians': [<matplotlib.lines.Line2D at 0x2733c17eac0>,\n",
       "  <matplotlib.lines.Line2D at 0x2733c238af0>,\n",
       "  <matplotlib.lines.Line2D at 0x2733d251340>,\n",
       "  <matplotlib.lines.Line2D at 0x2733d632ee0>,\n",
       "  <matplotlib.lines.Line2D at 0x2733d3f8c70>,\n",
       "  <matplotlib.lines.Line2D at 0x2733d5ee4f0>,\n",
       "  <matplotlib.lines.Line2D at 0x2733d61da60>,\n",
       "  <matplotlib.lines.Line2D at 0x2733dbed3d0>,\n",
       "  <matplotlib.lines.Line2D at 0x2733dbd4d00>,\n",
       "  <matplotlib.lines.Line2D at 0x2733dbd0670>,\n",
       "  <matplotlib.lines.Line2D at 0x2733d7b8fa0>,\n",
       "  <matplotlib.lines.Line2D at 0x2733d7a4910>,\n",
       "  <matplotlib.lines.Line2D at 0x2733d7ab2b0>],\n",
       " 'fliers': [<matplotlib.lines.Line2D at 0x2733c17eb20>,\n",
       "  <matplotlib.lines.Line2D at 0x2733c238910>,\n",
       "  <matplotlib.lines.Line2D at 0x2733d258190>,\n",
       "  <matplotlib.lines.Line2D at 0x2733d6324c0>,\n",
       "  <matplotlib.lines.Line2D at 0x2733d307f40>,\n",
       "  <matplotlib.lines.Line2D at 0x2733d541490>,\n",
       "  <matplotlib.lines.Line2D at 0x2733d61ddf0>,\n",
       "  <matplotlib.lines.Line2D at 0x2733dbed760>,\n",
       "  <matplotlib.lines.Line2D at 0x2733dbd80d0>,\n",
       "  <matplotlib.lines.Line2D at 0x2733dbd0a00>,\n",
       "  <matplotlib.lines.Line2D at 0x2733d7b3370>,\n",
       "  <matplotlib.lines.Line2D at 0x2733d7a4ca0>,\n",
       "  <matplotlib.lines.Line2D at 0x2733d7ab640>],\n",
       " 'means': []}"
      ]
     },
     "execution_count": 80,
     "metadata": {},
     "output_type": "execute_result"
    },
    {
     "data": {
      "image/png": "[encoded data removed]",
      "text/plain": [
       "<Figure size 432x288 with 1 Axes>"
      ]
     },
     "metadata": {
      "needs_background": "light"
     },
     "output_type": "display_data"
    }
   ],
   "source": [
    "a = pd.read_csv(path+'final_solutions_clpso_sqp_13.csv').values[:,1:]\n",
    "\n",
    "b = pd.read_csv(path+'solutions_clpso_13.csv').values[:,1:]\n",
    "\n",
    "plt.boxplot(a.T)\n"
   ]
  },
  {
   "cell_type": "code",
   "execution_count": 96,
   "metadata": {},
   "outputs": [
    {
     "data": {
      "text/plain": [
       "<matplotlib.legend.Legend at 0x2634359c370>"
      ]
     },
     "execution_count": 96,
     "metadata": {},
     "output_type": "execute_result"
    },
    {
     "data": {
      "image/png": "[encoded data removed]",
      "text/plain": [
       "<Figure size 432x288 with 1 Axes>"
      ]
     },
     "metadata": {
      "needs_background": "light"
     },
     "output_type": "display_data"
    }
   ],
   "source": [
    "pg=[]\n",
    "pg2=[]\n",
    "iter = []\n",
    "marker1 = []\n",
    "marker2 = []\n",
    "iter1=[]\n",
    "for i in range(0,1500):\n",
    "\n",
    "    if i%1 == 0:\n",
    "\n",
    "        pg.append(((swarm[i]-a.pg_min)/(a.pg_max-a.pg_min)).std(axis=0).mean())\n",
    "        \n",
    "        pg2.append(((swarm2[i]-a.pg_min)/(a.pg_max-a.pg_min)).std(axis=0).mean())\n",
    "\n",
    "        iter.append(i)\n",
    "    \n",
    "    if i%100 == 0: \n",
    "\n",
    "        marker1.append(((swarm[i]-a.pg_min)/(a.pg_max-a.pg_min)).std(axis=0).mean())\n",
    "        iter1.append(i)\n",
    "        marker2.append(((swarm2[i]-a.pg_min)/(a.pg_max-a.pg_min)).std(axis=0).mean())\n",
    "\n",
    "import matplotlib.pyplot as plt\n",
    "\n",
    "plt.plot(iter,pg, color='blue', alpha=0.75)\n",
    "\n",
    "plt.plot(iter,pg2, color='red', alpha=0.75)\n",
    "\n",
    "plt.scatter(iter1,marker1, marker='o', color='blue', label='CLPSO')\n",
    "\n",
    "plt.scatter(iter1,marker2, marker='^', color='red', label='PSO')\n",
    "\n",
    "plt.xlabel('Iterações', fontsize=12)\n",
    "\n",
    "plt.ylabel('Desvio Padrão (%)',fontsize=12)\n",
    "\n",
    "plt.legend()"
   ]
  },
  {
   "cell_type": "code",
   "execution_count": 243,
   "metadata": {},
   "outputs": [
    {
     "name": "stderr",
     "output_type": "stream",
     "text": [
      "C:\\Users\\RAFAEL~1\\AppData\\Local\\Temp/ipykernel_13292/336283450.py:27: UserWarning: linestyle is redundantly defined by the 'linestyle' keyword argument and the fmt string \"-\" (-> linestyle='-'). The keyword argument will take precedence.\n",
      "  er1 = ax.errorbar(x, c1m, yerr=c1s, marker=\"^\", linestyle=\"none\", transform=trans1, capsize=3, label='$c=1$', color='red', fmt='-')\n",
      "C:\\Users\\RAFAEL~1\\AppData\\Local\\Temp/ipykernel_13292/336283450.py:28: UserWarning: linestyle is redundantly defined by the 'linestyle' keyword argument and the fmt string \"-\" (-> linestyle='-'). The keyword argument will take precedence.\n",
      "  er2 = ax.errorbar(x, c2m, yerr=c2s, marker=\"x\", linestyle=\"none\", transform=trans2,capsize=3, label='$c=2$', color='blue', fmt='-')\n",
      "C:\\Users\\RAFAEL~1\\AppData\\Local\\Temp/ipykernel_13292/336283450.py:29: UserWarning: linestyle is redundantly defined by the 'linestyle' keyword argument and the fmt string \"-\" (-> linestyle='-'). The keyword argument will take precedence.\n",
      "  er3 = ax.errorbar(x, c3m, yerr=c3s, marker=\"o\", linestyle=\"none\", transform=trans3,capsize=3,  label='$c=3$', color='black', fmt='-')\n"
     ]
    },
    {
     "data": {
      "text/plain": [
       "([<matplotlib.axis.XTick at 0x26387da4a90>,\n",
       "  <matplotlib.axis.XTick at 0x26387da4a60>,\n",
       "  <matplotlib.axis.XTick at 0x26387da44c0>,\n",
       "  <matplotlib.axis.XTick at 0x26387e13460>,\n",
       "  <matplotlib.axis.XTick at 0x26387e13bb0>,\n",
       "  <matplotlib.axis.XTick at 0x26387e1a340>,\n",
       "  <matplotlib.axis.XTick at 0x26387e1aa90>,\n",
       "  <matplotlib.axis.XTick at 0x26387e21220>,\n",
       "  <matplotlib.axis.XTick at 0x26387e1adc0>],\n",
       " [Text(0, 0, ''),\n",
       "  Text(0, 0, ''),\n",
       "  Text(0, 0, ''),\n",
       "  Text(0, 0, ''),\n",
       "  Text(0, 0, ''),\n",
       "  Text(0, 0, ''),\n",
       "  Text(0, 0, ''),\n",
       "  Text(0, 0, ''),\n",
       "  Text(0, 0, '')])"
      ]
     },
     "execution_count": 243,
     "metadata": {},
     "output_type": "execute_result"
    },
    {
     "data": {
      "image/png": "[encoded data removed]",
      "text/plain": [
       "<Figure size 720x360 with 1 Axes>"
      ]
     },
     "metadata": {
      "needs_background": "light"
     },
     "output_type": "display_data"
    }
   ],
   "source": [
    "path = 'solutions_and_curves/hyperparameter_tuning/'\n",
    "\n",
    "dados = pd.read_csv(path+'tests_de_pcv_13.csv').iloc[:,1:]\n",
    "\n",
    "\n",
    "from matplotlib.transforms import Affine2D\n",
    "\n",
    "y = dados[dados['refresh_gap']==0]\n",
    "\n",
    "x = np.arange(0.1,1,0.1)\n",
    "\n",
    "c1m = dados[(dados['refresh_gap']==0) & (dados['c']==1)]['mean']\n",
    "c1s = dados[(dados['refresh_gap']==0) & (dados['c']==1)]['std']\n",
    "\n",
    "c2m = dados[(dados['refresh_gap']==0) & (dados['c']==2)]['mean']\n",
    "c2s = dados[(dados['refresh_gap']==0) & (dados['c']==2)]['std']\n",
    "\n",
    "c3m = dados[(dados['refresh_gap']==0) & (dados['c']==3)]['mean']\n",
    "c3s = dados[(dados['refresh_gap']==0) & (dados['c']==3)]['std']\n",
    "\n",
    "fig, ax = plt.subplots(figsize=(10,5))\n",
    "\n",
    "trans1 = Affine2D().translate(-0.02, 0.0) + ax.transData\n",
    "trans2 = Affine2D().translate(+0.0, 0.0) + ax.transData\n",
    "trans3 = Affine2D().translate(+0.02, 0.0) + ax.transData\n",
    "\n",
    "er1 = ax.errorbar(x, c1m, yerr=c1s, marker=\"^\", linestyle=\"none\", transform=trans1, capsize=3, label='$c=1$', color='red', fmt='-')\n",
    "er2 = ax.errorbar(x, c2m, yerr=c2s, marker=\"x\", linestyle=\"none\", transform=trans2,capsize=3, label='$c=2$', color='blue', fmt='-')\n",
    "er3 = ax.errorbar(x, c3m, yerr=c3s, marker=\"o\", linestyle=\"none\", transform=trans3,capsize=3,  label='$c=3$', color='black', fmt='-')\n",
    "\n",
    "plt.xlabel('$p_t$', fontsize=12)\n",
    "plt.ylabel('Custo ($)', fontsize=12)\n",
    "plt.legend(fontsize=12)\n",
    "plt.xlim((0,1))\n",
    "plt.xticks(x)"
   ]
  },
  {
   "cell_type": "code",
   "execution_count": 244,
   "metadata": {},
   "outputs": [
    {
     "data": {
      "text/plain": [
       "([<matplotlib.axis.XTick at 0x26387d56370>,\n",
       "  <matplotlib.axis.XTick at 0x26387d56a30>,\n",
       "  <matplotlib.axis.XTick at 0x26387e74520>,\n",
       "  <matplotlib.axis.XTick at 0x26387f04cd0>,\n",
       "  <matplotlib.axis.XTick at 0x26387f181f0>,\n",
       "  <matplotlib.axis.XTick at 0x26387f18940>,\n",
       "  <matplotlib.axis.XTick at 0x26387f1e0d0>,\n",
       "  <matplotlib.axis.XTick at 0x26387f1e820>,\n",
       "  <matplotlib.axis.XTick at 0x26387f25070>],\n",
       " [Text(0, 0, ''),\n",
       "  Text(0, 0, ''),\n",
       "  Text(0, 0, ''),\n",
       "  Text(0, 0, ''),\n",
       "  Text(0, 0, ''),\n",
       "  Text(0, 0, ''),\n",
       "  Text(0, 0, ''),\n",
       "  Text(0, 0, ''),\n",
       "  Text(0, 0, '')])"
      ]
     },
     "execution_count": 244,
     "metadata": {},
     "output_type": "execute_result"
    },
    {
     "data": {
      "image/png": "[encoded data removed]",
      "text/plain": [
       "<Figure size 720x360 with 1 Axes>"
      ]
     },
     "metadata": {
      "needs_background": "light"
     },
     "output_type": "display_data"
    }
   ],
   "source": [
    "path = 'solutions_and_curves/hyperparameter_tuning/'\n",
    "\n",
    "dados = pd.read_csv(path+'tests_de_pcv_13.csv').iloc[:,1:]\n",
    "\n",
    "\n",
    "from matplotlib.transforms import Affine2D\n",
    "\n",
    "y = dados[dados['refresh_gap']==1]\n",
    "\n",
    "x = np.arange(0.1,1,0.1)\n",
    "\n",
    "\n",
    "fig, ax = plt.subplots(figsize=(10,5))\n",
    "\n",
    "c1m = dados[(dados['refresh_gap']==1) & (dados['c']==1)]['mean']\n",
    "c1s = dados[(dados['refresh_gap']==1) & (dados['c']==1)]['std']\n",
    "\n",
    "c2m = dados[(dados['refresh_gap']==1) & (dados['c']==2)]['mean']\n",
    "c2s = dados[(dados['refresh_gap']==1) & (dados['c']==2)]['std']\n",
    "\n",
    "c3m = dados[(dados['refresh_gap']==1) & (dados['c']==3)]['mean']\n",
    "c3s = dados[(dados['refresh_gap']==1) & (dados['c']==3)]['std']\n",
    "\n",
    "\n",
    "trans1 = Affine2D().translate(-0.02, 0.0) + ax.transData\n",
    "trans2 = Affine2D().translate(+0.0, 0.0) + ax.transData\n",
    "trans3 = Affine2D().translate(+0.02, 0.0) + ax.transData\n",
    "\n",
    "er1 = ax.errorbar(x, c1m, yerr=c1s, marker=\"^\", linestyle=\"none\", transform=trans1, capsize=3, label='$c=1$', color='red')\n",
    "er2 = ax.errorbar(x, c2m, yerr=c2s, marker=\"x\", linestyle=\"none\", transform=trans2,capsize=3, label='$c=2$', color='blue')\n",
    "er3 = ax.errorbar(x, c3m, yerr=c3s, marker=\"o\", linestyle=\"none\", transform=trans3,capsize=3,  label='$c=3$', color='black')\n",
    "\n",
    "\n",
    "plt.xlabel('$p_t$', fontsize=12)\n",
    "plt.ylabel('Custo ($)', fontsize=12)\n",
    "plt.legend(fontsize=12)\n",
    "plt.xlim((0,1))\n",
    "plt.xticks(x)"
   ]
  },
  {
   "cell_type": "code",
   "execution_count": 246,
   "metadata": {},
   "outputs": [
    {
     "data": {
      "text/plain": [
       "([<matplotlib.axis.XTick at 0x26387d88eb0>,\n",
       "  <matplotlib.axis.XTick at 0x26387d88a00>,\n",
       "  <matplotlib.axis.XTick at 0x263880e3d30>,\n",
       "  <matplotlib.axis.XTick at 0x26388133ac0>,\n",
       "  <matplotlib.axis.XTick at 0x2638813db80>,\n",
       "  <matplotlib.axis.XTick at 0x26388143310>,\n",
       "  <matplotlib.axis.XTick at 0x26388143a60>,\n",
       "  <matplotlib.axis.XTick at 0x2638814a1f0>,\n",
       "  <matplotlib.axis.XTick at 0x2638814a940>],\n",
       " [Text(0, 0, ''),\n",
       "  Text(0, 0, ''),\n",
       "  Text(0, 0, ''),\n",
       "  Text(0, 0, ''),\n",
       "  Text(0, 0, ''),\n",
       "  Text(0, 0, ''),\n",
       "  Text(0, 0, ''),\n",
       "  Text(0, 0, ''),\n",
       "  Text(0, 0, '')])"
      ]
     },
     "execution_count": 246,
     "metadata": {},
     "output_type": "execute_result"
    },
    {
     "data": {
      "image/png": "[encoded data removed]",
      "text/plain": [
       "<Figure size 720x360 with 1 Axes>"
      ]
     },
     "metadata": {
      "needs_background": "light"
     },
     "output_type": "display_data"
    }
   ],
   "source": [
    "path = 'solutions_and_curves/hyperparameter_tuning/'\n",
    "\n",
    "dados = pd.read_csv(path+'tests_de_pcv_13.csv').iloc[:,1:]\n",
    "\n",
    "\n",
    "from matplotlib.transforms import Affine2D\n",
    "\n",
    "y = dados[dados['refresh_gap']==2]\n",
    "\n",
    "x = np.arange(0.1,1,0.1)\n",
    "\n",
    "c1m = dados[(dados['refresh_gap']==2) & (dados['c']==1)]['mean']\n",
    "c1s = dados[(dados['refresh_gap']==2) & (dados['c']==1)]['std']\n",
    "\n",
    "c2m = dados[(dados['refresh_gap']==2) & (dados['c']==2)]['mean']\n",
    "c2s = dados[(dados['refresh_gap']==2) & (dados['c']==2)]['std']\n",
    "\n",
    "c3m = dados[(dados['refresh_gap']==2) & (dados['c']==3)]['mean']\n",
    "c3s = dados[(dados['refresh_gap']==2) & (dados['c']==3)]['std']\n",
    "\n",
    "\n",
    "fig, ax = plt.subplots(figsize=(10,5))\n",
    "\n",
    "trans1 = Affine2D().translate(-0.02, 0.0) + ax.transData\n",
    "trans2 = Affine2D().translate(+0.0, 0.0) + ax.transData\n",
    "trans3 = Affine2D().translate(+0.02, 0.0) + ax.transData\n",
    "\n",
    "er1 = ax.errorbar(x, c1m, yerr=c1s, marker=\"^\", linestyle=\"none\", transform=trans1, capsize=3, label='$c=1$', color='red')\n",
    "er2 = ax.errorbar(x, c2m, yerr=c2s, marker=\"x\", linestyle=\"none\", transform=trans2,capsize=3, label='$c=2$', color='blue')\n",
    "er3 = ax.errorbar(x, c3m, yerr=c3s, marker=\"o\", linestyle=\"none\", transform=trans3,capsize=3,  label='$c=3$', color='black')\n",
    "\n",
    "\n",
    "plt.xlabel('$p_t$', fontsize=12)\n",
    "plt.ylabel('Custo ($)', fontsize=12)\n",
    "plt.legend(fontsize=12)\n",
    "plt.xlim((0,1))\n",
    "plt.xticks(x)"
   ]
  },
  {
   "cell_type": "code",
   "execution_count": 247,
   "metadata": {},
   "outputs": [
    {
     "data": {
      "text/plain": [
       "([<matplotlib.axis.XTick at 0x2638814a250>,\n",
       "  <matplotlib.axis.XTick at 0x2638814ad60>,\n",
       "  <matplotlib.axis.XTick at 0x26387dccdf0>,\n",
       "  <matplotlib.axis.XTick at 0x26387381790>,\n",
       "  <matplotlib.axis.XTick at 0x2638732fcd0>,\n",
       "  <matplotlib.axis.XTick at 0x26387161610>,\n",
       "  <matplotlib.axis.XTick at 0x263871abbe0>,\n",
       "  <matplotlib.axis.XTick at 0x263871ab2e0>,\n",
       "  <matplotlib.axis.XTick at 0x263871b07c0>],\n",
       " [Text(0, 0, ''),\n",
       "  Text(0, 0, ''),\n",
       "  Text(0, 0, ''),\n",
       "  Text(0, 0, ''),\n",
       "  Text(0, 0, ''),\n",
       "  Text(0, 0, ''),\n",
       "  Text(0, 0, ''),\n",
       "  Text(0, 0, ''),\n",
       "  Text(0, 0, '')])"
      ]
     },
     "execution_count": 247,
     "metadata": {},
     "output_type": "execute_result"
    },
    {
     "data": {
      "image/png": "[encoded data removed]",
      "text/plain": [
       "<Figure size 720x360 with 1 Axes>"
      ]
     },
     "metadata": {
      "needs_background": "light"
     },
     "output_type": "display_data"
    }
   ],
   "source": [
    "path = 'solutions_and_curves/hyperparameter_tuning/'\n",
    "\n",
    "dados = pd.read_csv(path+'tests_de_pcv_13.csv').iloc[:,1:]\n",
    "\n",
    "\n",
    "from matplotlib.transforms import Affine2D\n",
    "\n",
    "y = dados[dados['refresh_gap']==3]\n",
    "\n",
    "x = np.arange(0.1,1,0.1)\n",
    "\n",
    "c1m = dados[(dados['refresh_gap']==3) & (dados['c']==1)]['mean']\n",
    "c1s = dados[(dados['refresh_gap']==3) & (dados['c']==1)]['std']\n",
    "\n",
    "c2m = dados[(dados['refresh_gap']==3) & (dados['c']==2)]['mean']\n",
    "c2s = dados[(dados['refresh_gap']==3) & (dados['c']==2)]['std']\n",
    "\n",
    "c3m = dados[(dados['refresh_gap']==3) & (dados['c']==3)]['mean']\n",
    "c3s = dados[(dados['refresh_gap']==3) & (dados['c']==3)]['std']\n",
    "\n",
    "\n",
    "fig, ax = plt.subplots(figsize=(10,5))\n",
    "\n",
    "trans1 = Affine2D().translate(-0.02, 0.0) + ax.transData\n",
    "trans2 = Affine2D().translate(+0.0, 0.0) + ax.transData\n",
    "trans3 = Affine2D().translate(+0.02, 0.0) + ax.transData\n",
    "\n",
    "er1 = ax.errorbar(x, c1m, yerr=c1s, marker=\"^\", linestyle=\"none\", transform=trans1, capsize=3, label='$c=1$', color='red')\n",
    "er2 = ax.errorbar(x, c2m, yerr=c2s, marker=\"x\", linestyle=\"none\", transform=trans2,capsize=3, label='$c=2$', color='blue')\n",
    "er3 = ax.errorbar(x, c3m, yerr=c3s, marker=\"o\", linestyle=\"none\", transform=trans3,capsize=3,  label='$c=3$', color='black')\n",
    "\n",
    "\n",
    "\n",
    "plt.xlabel('$p_t$', fontsize=12)\n",
    "plt.ylabel('Custo ($)', fontsize=12)\n",
    "plt.legend(fontsize=12)\n",
    "plt.xlim((0,1))\n",
    "plt.xticks(x)\n"
   ]
  },
  {
   "cell_type": "code",
   "execution_count": 248,
   "metadata": {},
   "outputs": [
    {
     "data": {
      "text/html": [
       "<div>\n",
       "<style scoped>\n",
       "    .dataframe tbody tr th:only-of-type {\n",
       "        vertical-align: middle;\n",
       "    }\n",
       "\n",
       "    .dataframe tbody tr th {\n",
       "        vertical-align: top;\n",
       "    }\n",
       "\n",
       "    .dataframe thead th {\n",
       "        text-align: right;\n",
       "    }\n",
       "</style>\n",
       "<table border=\"1\" class=\"dataframe\">\n",
       "  <thead>\n",
       "    <tr style=\"text-align: right;\">\n",
       "      <th></th>\n",
       "      <th>refresh_gap</th>\n",
       "      <th>c</th>\n",
       "      <th>probability</th>\n",
       "      <th>mean</th>\n",
       "      <th>min</th>\n",
       "      <th>std</th>\n",
       "    </tr>\n",
       "  </thead>\n",
       "  <tbody>\n",
       "    <tr>\n",
       "      <th>0</th>\n",
       "      <td>0</td>\n",
       "      <td>1</td>\n",
       "      <td>0.1</td>\n",
       "      <td>24264.675927</td>\n",
       "      <td>24204.880219</td>\n",
       "      <td>34.896174</td>\n",
       "    </tr>\n",
       "    <tr>\n",
       "      <th>1</th>\n",
       "      <td>0</td>\n",
       "      <td>1</td>\n",
       "      <td>0.2</td>\n",
       "      <td>24250.323368</td>\n",
       "      <td>24174.173126</td>\n",
       "      <td>42.514783</td>\n",
       "    </tr>\n",
       "    <tr>\n",
       "      <th>2</th>\n",
       "      <td>0</td>\n",
       "      <td>1</td>\n",
       "      <td>0.3</td>\n",
       "      <td>24236.864688</td>\n",
       "      <td>24171.195137</td>\n",
       "      <td>50.390712</td>\n",
       "    </tr>\n",
       "    <tr>\n",
       "      <th>3</th>\n",
       "      <td>0</td>\n",
       "      <td>1</td>\n",
       "      <td>0.4</td>\n",
       "      <td>24234.300847</td>\n",
       "      <td>24170.717031</td>\n",
       "      <td>54.324011</td>\n",
       "    </tr>\n",
       "    <tr>\n",
       "      <th>4</th>\n",
       "      <td>0</td>\n",
       "      <td>1</td>\n",
       "      <td>0.5</td>\n",
       "      <td>24242.015397</td>\n",
       "      <td>24170.717031</td>\n",
       "      <td>61.060741</td>\n",
       "    </tr>\n",
       "    <tr>\n",
       "      <th>5</th>\n",
       "      <td>0</td>\n",
       "      <td>1</td>\n",
       "      <td>0.6</td>\n",
       "      <td>24250.646032</td>\n",
       "      <td>24170.717031</td>\n",
       "      <td>66.678650</td>\n",
       "    </tr>\n",
       "    <tr>\n",
       "      <th>6</th>\n",
       "      <td>0</td>\n",
       "      <td>1</td>\n",
       "      <td>0.7</td>\n",
       "      <td>24268.171148</td>\n",
       "      <td>24170.717031</td>\n",
       "      <td>81.486203</td>\n",
       "    </tr>\n",
       "    <tr>\n",
       "      <th>7</th>\n",
       "      <td>0</td>\n",
       "      <td>1</td>\n",
       "      <td>0.8</td>\n",
       "      <td>24284.164357</td>\n",
       "      <td>24170.717031</td>\n",
       "      <td>94.387073</td>\n",
       "    </tr>\n",
       "    <tr>\n",
       "      <th>8</th>\n",
       "      <td>0</td>\n",
       "      <td>1</td>\n",
       "      <td>0.9</td>\n",
       "      <td>24293.991432</td>\n",
       "      <td>24170.717031</td>\n",
       "      <td>96.662137</td>\n",
       "    </tr>\n",
       "    <tr>\n",
       "      <th>9</th>\n",
       "      <td>0</td>\n",
       "      <td>2</td>\n",
       "      <td>0.1</td>\n",
       "      <td>24301.413125</td>\n",
       "      <td>24170.717031</td>\n",
       "      <td>95.159411</td>\n",
       "    </tr>\n",
       "    <tr>\n",
       "      <th>10</th>\n",
       "      <td>0</td>\n",
       "      <td>2</td>\n",
       "      <td>0.2</td>\n",
       "      <td>24306.303288</td>\n",
       "      <td>24170.717031</td>\n",
       "      <td>92.743683</td>\n",
       "    </tr>\n",
       "    <tr>\n",
       "      <th>11</th>\n",
       "      <td>0</td>\n",
       "      <td>2</td>\n",
       "      <td>0.3</td>\n",
       "      <td>24305.846628</td>\n",
       "      <td>24170.717031</td>\n",
       "      <td>90.113466</td>\n",
       "    </tr>\n",
       "    <tr>\n",
       "      <th>12</th>\n",
       "      <td>0</td>\n",
       "      <td>2</td>\n",
       "      <td>0.4</td>\n",
       "      <td>24305.735407</td>\n",
       "      <td>24170.717031</td>\n",
       "      <td>89.079911</td>\n",
       "    </tr>\n",
       "    <tr>\n",
       "      <th>13</th>\n",
       "      <td>0</td>\n",
       "      <td>2</td>\n",
       "      <td>0.5</td>\n",
       "      <td>24310.547050</td>\n",
       "      <td>24170.717031</td>\n",
       "      <td>88.459945</td>\n",
       "    </tr>\n",
       "    <tr>\n",
       "      <th>14</th>\n",
       "      <td>0</td>\n",
       "      <td>2</td>\n",
       "      <td>0.6</td>\n",
       "      <td>24313.312390</td>\n",
       "      <td>24170.717031</td>\n",
       "      <td>88.760248</td>\n",
       "    </tr>\n",
       "    <tr>\n",
       "      <th>15</th>\n",
       "      <td>0</td>\n",
       "      <td>2</td>\n",
       "      <td>0.7</td>\n",
       "      <td>24316.890775</td>\n",
       "      <td>24170.717031</td>\n",
       "      <td>92.503013</td>\n",
       "    </tr>\n",
       "    <tr>\n",
       "      <th>16</th>\n",
       "      <td>0</td>\n",
       "      <td>2</td>\n",
       "      <td>0.8</td>\n",
       "      <td>24328.166208</td>\n",
       "      <td>24170.717031</td>\n",
       "      <td>103.241987</td>\n",
       "    </tr>\n",
       "    <tr>\n",
       "      <th>17</th>\n",
       "      <td>0</td>\n",
       "      <td>2</td>\n",
       "      <td>0.9</td>\n",
       "      <td>24332.510069</td>\n",
       "      <td>24170.717031</td>\n",
       "      <td>105.195734</td>\n",
       "    </tr>\n",
       "    <tr>\n",
       "      <th>18</th>\n",
       "      <td>0</td>\n",
       "      <td>3</td>\n",
       "      <td>0.1</td>\n",
       "      <td>24338.835611</td>\n",
       "      <td>24170.717031</td>\n",
       "      <td>106.653959</td>\n",
       "    </tr>\n",
       "    <tr>\n",
       "      <th>19</th>\n",
       "      <td>0</td>\n",
       "      <td>3</td>\n",
       "      <td>0.2</td>\n",
       "      <td>24343.277238</td>\n",
       "      <td>24170.717031</td>\n",
       "      <td>106.393576</td>\n",
       "    </tr>\n",
       "    <tr>\n",
       "      <th>20</th>\n",
       "      <td>0</td>\n",
       "      <td>3</td>\n",
       "      <td>0.3</td>\n",
       "      <td>24347.361235</td>\n",
       "      <td>24170.717031</td>\n",
       "      <td>106.096690</td>\n",
       "    </tr>\n",
       "    <tr>\n",
       "      <th>21</th>\n",
       "      <td>0</td>\n",
       "      <td>3</td>\n",
       "      <td>0.4</td>\n",
       "      <td>24351.281523</td>\n",
       "      <td>24170.717031</td>\n",
       "      <td>106.051348</td>\n",
       "    </tr>\n",
       "    <tr>\n",
       "      <th>22</th>\n",
       "      <td>0</td>\n",
       "      <td>3</td>\n",
       "      <td>0.5</td>\n",
       "      <td>24355.160601</td>\n",
       "      <td>24170.717031</td>\n",
       "      <td>106.767843</td>\n",
       "    </tr>\n",
       "    <tr>\n",
       "      <th>23</th>\n",
       "      <td>0</td>\n",
       "      <td>3</td>\n",
       "      <td>0.6</td>\n",
       "      <td>24361.718806</td>\n",
       "      <td>24170.717031</td>\n",
       "      <td>111.475705</td>\n",
       "    </tr>\n",
       "    <tr>\n",
       "      <th>24</th>\n",
       "      <td>0</td>\n",
       "      <td>3</td>\n",
       "      <td>0.7</td>\n",
       "      <td>24366.621661</td>\n",
       "      <td>24170.717031</td>\n",
       "      <td>113.645839</td>\n",
       "    </tr>\n",
       "    <tr>\n",
       "      <th>25</th>\n",
       "      <td>0</td>\n",
       "      <td>3</td>\n",
       "      <td>0.8</td>\n",
       "      <td>24374.055235</td>\n",
       "      <td>24170.717031</td>\n",
       "      <td>120.165481</td>\n",
       "    </tr>\n",
       "    <tr>\n",
       "      <th>26</th>\n",
       "      <td>0</td>\n",
       "      <td>3</td>\n",
       "      <td>0.9</td>\n",
       "      <td>24378.032140</td>\n",
       "      <td>24170.717031</td>\n",
       "      <td>122.088569</td>\n",
       "    </tr>\n",
       "  </tbody>\n",
       "</table>\n",
       "</div>"
      ],
      "text/plain": [
       "    refresh_gap  c  probability          mean           min         std\n",
       "0             0  1          0.1  24264.675927  24204.880219   34.896174\n",
       "1             0  1          0.2  24250.323368  24174.173126   42.514783\n",
       "2             0  1          0.3  24236.864688  24171.195137   50.390712\n",
       "3             0  1          0.4  24234.300847  24170.717031   54.324011\n",
       "4             0  1          0.5  24242.015397  24170.717031   61.060741\n",
       "5             0  1          0.6  24250.646032  24170.717031   66.678650\n",
       "6             0  1          0.7  24268.171148  24170.717031   81.486203\n",
       "7             0  1          0.8  24284.164357  24170.717031   94.387073\n",
       "8             0  1          0.9  24293.991432  24170.717031   96.662137\n",
       "9             0  2          0.1  24301.413125  24170.717031   95.159411\n",
       "10            0  2          0.2  24306.303288  24170.717031   92.743683\n",
       "11            0  2          0.3  24305.846628  24170.717031   90.113466\n",
       "12            0  2          0.4  24305.735407  24170.717031   89.079911\n",
       "13            0  2          0.5  24310.547050  24170.717031   88.459945\n",
       "14            0  2          0.6  24313.312390  24170.717031   88.760248\n",
       "15            0  2          0.7  24316.890775  24170.717031   92.503013\n",
       "16            0  2          0.8  24328.166208  24170.717031  103.241987\n",
       "17            0  2          0.9  24332.510069  24170.717031  105.195734\n",
       "18            0  3          0.1  24338.835611  24170.717031  106.653959\n",
       "19            0  3          0.2  24343.277238  24170.717031  106.393576\n",
       "20            0  3          0.3  24347.361235  24170.717031  106.096690\n",
       "21            0  3          0.4  24351.281523  24170.717031  106.051348\n",
       "22            0  3          0.5  24355.160601  24170.717031  106.767843\n",
       "23            0  3          0.6  24361.718806  24170.717031  111.475705\n",
       "24            0  3          0.7  24366.621661  24170.717031  113.645839\n",
       "25            0  3          0.8  24374.055235  24170.717031  120.165481\n",
       "26            0  3          0.9  24378.032140  24170.717031  122.088569"
      ]
     },
     "execution_count": 248,
     "metadata": {},
     "output_type": "execute_result"
    }
   ],
   "source": [
    "dados[dados.refresh_gap==0]"
   ]
  }
 ],
 "metadata": {
  "interpreter": {
   "hash": "dd29c56ba2adf52c07826bc05c245baffb15e472d30979d3bfec02223da0ee11"
  },
  "kernelspec": {
   "display_name": "Python 3.9.7 64-bit",
   "language": "python",
   "name": "python3"
  },
  "language_info": {
   "codemirror_mode": {
    "name": "ipython",
    "version": 3
   },
   "file_extension": ".py",
   "mimetype": "text/x-python",
   "name": "python",
   "nbconvert_exporter": "python",
   "pygments_lexer": "ipython3",
   "version": "3.9.7"
  },
  "orig_nbformat": 4
 },
 "nbformat": 4,
 "nbformat_minor": 2
}
