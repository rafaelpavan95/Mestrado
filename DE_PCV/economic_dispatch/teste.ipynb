{
 "cells": [
  {
   "cell_type": "code",
   "execution_count": 18,
   "metadata": {},
   "outputs": [
    {
     "data": {
      "text/plain": [
       "2520.3999999999996"
      ]
     },
     "execution_count": 18,
     "metadata": {},
     "output_type": "execute_result"
    }
   ],
   "source": [
    "from systems import system_13\n",
    "import numpy as np\n",
    "\n",
    "diego2144 = np.array([628.33045,299.99307,299.99307,159.74125,159.74125,159.74125,159.74125,159.74125,159.74125,77.40922,77.40922,92.40855,86.00891])\n",
    "\n",
    "diego24173 = np.array([628.08088,298.79312,298.79312,159.53795,159.53795,159.53795,159.53795,159.53795,159.53795,76.92247,76.92247,91.63009,91.63009])\n",
    "pothya = np.array([628.32, 299.06,299.17,159.73,159.73,159.73,159.73,159.72,159.72, 75.47,77.33,92.10,90.59])\n",
    " \n",
    "samedagh = np.array([617.1943, 300.4246,297.2810,165.63,159.0019,164.5568,140.7621,157.1320,165.9530,76.51676,74.81078,80.65879,120.0779])\n",
    "  \n",
    "system_13().costs(diego2144)\n",
    "\n",
    "pothya.sum()"
   ]
  },
  {
   "cell_type": "code",
   "execution_count": 7,
   "metadata": {},
   "outputs": [
    {
     "data": {
      "text/plain": [
       "array([ 0,  0,  0, 60, 60, 60, 60, 60, 60, 40, 40, 55, 55])"
      ]
     },
     "execution_count": 7,
     "metadata": {},
     "output_type": "execute_result"
    }
   ],
   "source": [
    "system_13().pg_min"
   ]
  },
  {
   "cell_type": "code",
   "execution_count": 8,
   "metadata": {},
   "outputs": [
    {
     "data": {
      "text/plain": [
       "array([680, 360, 360, 180, 180, 180, 180, 180, 180, 120, 120, 120, 120])"
      ]
     },
     "execution_count": 8,
     "metadata": {},
     "output_type": "execute_result"
    }
   ],
   "source": [
    "system_13().pg_max"
   ]
  },
  {
   "cell_type": "code",
   "execution_count": 9,
   "metadata": {},
   "outputs": [
    {
     "data": {
      "text/plain": [
       "array([0.00028, 0.00056, 0.00056, 0.00324, 0.00324, 0.00324, 0.00324,\n",
       "       0.00324, 0.00324, 0.00284, 0.00284, 0.00284, 0.00284])"
      ]
     },
     "execution_count": 9,
     "metadata": {},
     "output_type": "execute_result"
    }
   ],
   "source": [
    "system_13().a_k"
   ]
  },
  {
   "cell_type": "code",
   "execution_count": 10,
   "metadata": {},
   "outputs": [
    {
     "data": {
      "text/plain": [
       "array([8.1 , 8.1 , 8.1 , 7.74, 7.74, 7.74, 7.74, 7.74, 7.74, 8.6 , 8.6 ,\n",
       "       8.6 , 8.6 ])"
      ]
     },
     "execution_count": 10,
     "metadata": {},
     "output_type": "execute_result"
    }
   ],
   "source": [
    "system_13().b_k"
   ]
  },
  {
   "cell_type": "code",
   "execution_count": 12,
   "metadata": {},
   "outputs": [
    {
     "data": {
      "text/plain": [
       "array([550, 309, 307, 240, 240, 240, 240, 240, 240, 126, 126, 126, 126])"
      ]
     },
     "execution_count": 12,
     "metadata": {},
     "output_type": "execute_result"
    }
   ],
   "source": [
    "system_13().c_k\n"
   ]
  },
  {
   "cell_type": "code",
   "execution_count": 13,
   "metadata": {},
   "outputs": [
    {
     "data": {
      "text/plain": [
       "array([300, 200, 200, 150, 150, 150, 150, 150, 150, 100, 100, 100, 100])"
      ]
     },
     "execution_count": 13,
     "metadata": {},
     "output_type": "execute_result"
    }
   ],
   "source": [
    "system_13().e_k"
   ]
  },
  {
   "cell_type": "code",
   "execution_count": 14,
   "metadata": {},
   "outputs": [
    {
     "data": {
      "text/plain": [
       "array([0.035, 0.042, 0.042, 0.063, 0.063, 0.063, 0.063, 0.063, 0.063,\n",
       "       0.084, 0.084, 0.084, 0.084])"
      ]
     },
     "execution_count": 14,
     "metadata": {},
     "output_type": "execute_result"
    }
   ],
   "source": [
    "system_13().f_k"
   ]
  }
 ],
 "metadata": {
  "interpreter": {
   "hash": "dd29c56ba2adf52c07826bc05c245baffb15e472d30979d3bfec02223da0ee11"
  },
  "kernelspec": {
   "display_name": "Python 3.9.7 64-bit",
   "language": "python",
   "name": "python3"
  },
  "language_info": {
   "codemirror_mode": {
    "name": "ipython",
    "version": 3
   },
   "file_extension": ".py",
   "mimetype": "text/x-python",
   "name": "python",
   "nbconvert_exporter": "python",
   "pygments_lexer": "ipython3",
   "version": "3.9.7"
  },
  "orig_nbformat": 4
 },
 "nbformat": 4,
 "nbformat_minor": 2
}
